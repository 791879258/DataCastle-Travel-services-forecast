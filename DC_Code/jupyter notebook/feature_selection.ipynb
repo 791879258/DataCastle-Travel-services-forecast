{
 "cells": [
  {
   "cell_type": "code",
   "execution_count": 37,
   "metadata": {},
   "outputs": [
    {
     "name": "stdout",
     "output_type": "stream",
     "text": [
      "(40307, 80)\n",
      "(40307, 69)\n",
      "(40307, 80)\n"
     ]
    }
   ],
   "source": [
    "#!/usr/bin/env python\n",
    "# -*- coding: utf-8 -*-\n",
    "# @Date    : 2017-12-29 12:19:53\n",
    "# @Author  : guanglinzhou (xdzgl812@163.com)\n",
    "\n",
    "import os\n",
    "import pandas as pd\n",
    "import numpy as np\n",
    "import matplotlib.pyplot as plt\n",
    "from collections import Counter, defaultdict\n",
    "import gc\n",
    "from sklearn.feature_selection import VarianceThreshold\n",
    "import sklearn.feature_selection\n",
    "from sklearn.feature_selection import SelectKBest\n",
    "from sklearn.feature_selection import chi2\n",
    "project_path = '/Users/guanglinzhou/Desktop/DC_Mac/DC_Code/'\n",
    "traindata_output_path = project_path + \"preprocess/traindata_output/\"\n",
    "# testdata_output_path = project_path + \"preprocess/testdata_output/\"\n",
    "\n",
    "traindata_output = pd.read_csv(traindata_output_path + 'traindata_output.csv')\n",
    "traindata_output.fillna(0, inplace=True)\n",
    "userid_series = traindata_output['userid']\n",
    "y = traindata_output['orderType']\n",
    "del traindata_output['userid']\n",
    "del traindata_output['orderType']\n",
    "X = traindata_output\n",
    "print(X.shape)\n",
    "variance_sel = VarianceThreshold(threshold=(.8 * (1 - .8)))\n",
    "c=variance_sel.fit_transform(X)\n",
    "print(c.shape)\n",
    "print(X.shape)"
   ]
  },
  {
   "cell_type": "code",
   "execution_count": 13,
   "metadata": {},
   "outputs": [],
   "source": [
    "columns_index=variance_sel.get_support(indices=True)\n",
    "features=[column for column in X.columns[columns_index]]"
   ]
  },
  {
   "cell_type": "code",
   "execution_count": 18,
   "metadata": {},
   "outputs": [],
   "source": [
    "df=pd.DataFrame(c,columns=features)"
   ]
  },
  {
   "cell_type": "code",
   "execution_count": 20,
   "metadata": {},
   "outputs": [
    {
     "data": {
      "text/plain": [
       "(40307, 69)"
      ]
     },
     "execution_count": 20,
     "metadata": {},
     "output_type": "execute_result"
    }
   ],
   "source": [
    "df.shape"
   ]
  },
  {
   "cell_type": "code",
   "execution_count": 21,
   "metadata": {},
   "outputs": [
    {
     "name": "stdout",
     "output_type": "stream",
     "text": [
      "(40307, 80)\n"
     ]
    }
   ],
   "source": [
    "print(traindata_output.shape)"
   ]
  },
  {
   "cell_type": "code",
   "execution_count": 22,
   "metadata": {
    "collapsed": true
   },
   "outputs": [],
   "source": [
    "df=pd.concat([df,userid_series,y],axis=1)"
   ]
  },
  {
   "cell_type": "code",
   "execution_count": 31,
   "metadata": {},
   "outputs": [],
   "source": [
    "a,b=sklearn.feature_selection.chi2(X,y)"
   ]
  },
  {
   "cell_type": "code",
   "execution_count": 33,
   "metadata": {},
   "outputs": [
    {
     "data": {
      "text/plain": [
       "(80,)"
      ]
     },
     "execution_count": 33,
     "metadata": {},
     "output_type": "execute_result"
    }
   ],
   "source": [
    "a.shape"
   ]
  },
  {
   "cell_type": "code",
   "execution_count": 34,
   "metadata": {},
   "outputs": [
    {
     "data": {
      "text/plain": [
       "(80,)"
      ]
     },
     "execution_count": 34,
     "metadata": {},
     "output_type": "execute_result"
    }
   ],
   "source": [
    "b.shape"
   ]
  },
  {
   "cell_type": "code",
   "execution_count": 38,
   "metadata": {
    "collapsed": true
   },
   "outputs": [],
   "source": [
    "X_new = SelectKBest(chi2, k=2).fit_transform(X, y)"
   ]
  },
  {
   "cell_type": "code",
   "execution_count": 39,
   "metadata": {},
   "outputs": [
    {
     "data": {
      "text/plain": [
       "array([[  1.18134719e+10,   5.02084144e+09],\n",
       "       [  0.00000000e+00,   1.84220000e+02],\n",
       "       [  6.24730029e+10,   2.79004506e+12],\n",
       "       ..., \n",
       "       [  0.00000000e+00,   8.94512422e+11],\n",
       "       [  3.42250000e+02,   1.15267000e+03],\n",
       "       [  0.00000000e+00,   2.01615600e+04]])"
      ]
     },
     "execution_count": 39,
     "metadata": {},
     "output_type": "execute_result"
    }
   ],
   "source": [
    "X_new"
   ]
  },
  {
   "cell_type": "code",
   "execution_count": 53,
   "metadata": {},
   "outputs": [
    {
     "name": "stdout",
     "output_type": "stream",
     "text": [
      "['interval_last3_var']\n"
     ]
    }
   ],
   "source": [
    "from sklearn.feature_selection import SelectKBest, chi2\n",
    "select_k_best_classifier = SelectKBest(score_func=chi2, k=1)\n",
    "select_k_best_classifier.fit_transform(X,y)\n",
    "columns_index=select_k_best_classifier.get_support(indices=True)\n",
    "features=[column for column in X.columns[columns_index]]\n",
    "print(features)"
   ]
  },
  {
   "cell_type": "code",
   "execution_count": 52,
   "metadata": {},
   "outputs": [
    {
     "name": "stdout",
     "output_type": "stream",
     "text": [
      "['interval_last3_var']\n"
     ]
    }
   ],
   "source": []
  },
  {
   "cell_type": "code",
   "execution_count": 68,
   "metadata": {
    "collapsed": true
   },
   "outputs": [],
   "source": [
    "#!/usr/bin/env python\n",
    "# -*- coding: utf-8 -*-\n",
    "# @Date    : 2017-12-29 12:19:53\n",
    "# @Author  : guanglinzhou (xdzgl812@163.com)\n",
    "\n",
    "import os\n",
    "import pandas as pd\n",
    "import numpy as np\n",
    "import matplotlib.pyplot as plt\n",
    "from collections import Counter, defaultdict\n",
    "import gc\n",
    "from sklearn.feature_selection import VarianceThreshold\n",
    "from sklearn.feature_selection import SelectKBest, chi2\n",
    "\n",
    "project_path = '/Users/guanglinzhou/Desktop/DC_Mac/DC_Code/'\n",
    "traindata_output_path = project_path + \"preprocess/traindata_output/\""
   ]
  },
  {
   "cell_type": "code",
   "execution_count": 69,
   "metadata": {
    "collapsed": true
   },
   "outputs": [],
   "source": [
    "traindata_output = pd.read_csv(traindata_output_path + 'traindata_output.csv')"
   ]
  },
  {
   "cell_type": "code",
   "execution_count": 70,
   "metadata": {},
   "outputs": [
    {
     "data": {
      "text/html": [
       "<div>\n",
       "<style>\n",
       "    .dataframe thead tr:only-child th {\n",
       "        text-align: right;\n",
       "    }\n",
       "\n",
       "    .dataframe thead th {\n",
       "        text-align: left;\n",
       "    }\n",
       "\n",
       "    .dataframe tbody tr th {\n",
       "        vertical-align: top;\n",
       "    }\n",
       "</style>\n",
       "<table border=\"1\" class=\"dataframe\">\n",
       "  <thead>\n",
       "    <tr style=\"text-align: right;\">\n",
       "      <th></th>\n",
       "      <th>userid</th>\n",
       "      <th>actionType1</th>\n",
       "      <th>actionType2</th>\n",
       "      <th>actionType3</th>\n",
       "      <th>actionType4</th>\n",
       "      <th>actionType5</th>\n",
       "      <th>actionType6</th>\n",
       "      <th>actionType7</th>\n",
       "      <th>actionType8</th>\n",
       "      <th>actionType9</th>\n",
       "      <th>...</th>\n",
       "      <th>interval_mean</th>\n",
       "      <th>interval_var</th>\n",
       "      <th>interval_min</th>\n",
       "      <th>interval_lastvale1</th>\n",
       "      <th>interval_lastvale2</th>\n",
       "      <th>interval_lastvale3</th>\n",
       "      <th>interval_lasetvale4</th>\n",
       "      <th>interval_last3_mean</th>\n",
       "      <th>interval_last3_var</th>\n",
       "      <th>first_interval</th>\n",
       "    </tr>\n",
       "  </thead>\n",
       "  <tbody>\n",
       "    <tr>\n",
       "      <th>0</th>\n",
       "      <td>100000000013</td>\n",
       "      <td>79</td>\n",
       "      <td>1</td>\n",
       "      <td>4</td>\n",
       "      <td>1</td>\n",
       "      <td>32</td>\n",
       "      <td>18</td>\n",
       "      <td>1</td>\n",
       "      <td>4</td>\n",
       "      <td>3</td>\n",
       "      <td>...</td>\n",
       "      <td>203785.82</td>\n",
       "      <td>8.829965e+11</td>\n",
       "      <td>2</td>\n",
       "      <td>240330</td>\n",
       "      <td>69377</td>\n",
       "      <td>180836</td>\n",
       "      <td>397436</td>\n",
       "      <td>163514.33</td>\n",
       "      <td>5.020841e+09</td>\n",
       "      <td>10</td>\n",
       "    </tr>\n",
       "    <tr>\n",
       "      <th>1</th>\n",
       "      <td>100000000111</td>\n",
       "      <td>1</td>\n",
       "      <td>0</td>\n",
       "      <td>0</td>\n",
       "      <td>0</td>\n",
       "      <td>1</td>\n",
       "      <td>1</td>\n",
       "      <td>0</td>\n",
       "      <td>0</td>\n",
       "      <td>0</td>\n",
       "      <td>...</td>\n",
       "      <td>23.00</td>\n",
       "      <td>1.000000e+02</td>\n",
       "      <td>13</td>\n",
       "      <td>33</td>\n",
       "      <td>13</td>\n",
       "      <td>0</td>\n",
       "      <td>0</td>\n",
       "      <td>15.33</td>\n",
       "      <td>1.842200e+02</td>\n",
       "      <td>13</td>\n",
       "    </tr>\n",
       "    <tr>\n",
       "      <th>2</th>\n",
       "      <td>100000000127</td>\n",
       "      <td>2</td>\n",
       "      <td>0</td>\n",
       "      <td>0</td>\n",
       "      <td>0</td>\n",
       "      <td>2</td>\n",
       "      <td>0</td>\n",
       "      <td>2</td>\n",
       "      <td>0</td>\n",
       "      <td>0</td>\n",
       "      <td>...</td>\n",
       "      <td>1423919.80</td>\n",
       "      <td>2.946155e+12</td>\n",
       "      <td>46</td>\n",
       "      <td>3266886</td>\n",
       "      <td>3766778</td>\n",
       "      <td>46</td>\n",
       "      <td>85737</td>\n",
       "      <td>2344570.00</td>\n",
       "      <td>2.790045e+12</td>\n",
       "      <td>152</td>\n",
       "    </tr>\n",
       "    <tr>\n",
       "      <th>3</th>\n",
       "      <td>100000000231</td>\n",
       "      <td>15</td>\n",
       "      <td>6</td>\n",
       "      <td>2</td>\n",
       "      <td>5</td>\n",
       "      <td>10</td>\n",
       "      <td>6</td>\n",
       "      <td>0</td>\n",
       "      <td>0</td>\n",
       "      <td>0</td>\n",
       "      <td>...</td>\n",
       "      <td>412180.60</td>\n",
       "      <td>1.064041e+12</td>\n",
       "      <td>3</td>\n",
       "      <td>5</td>\n",
       "      <td>55</td>\n",
       "      <td>9781</td>\n",
       "      <td>12</td>\n",
       "      <td>3280.33</td>\n",
       "      <td>2.112975e+07</td>\n",
       "      <td>18</td>\n",
       "    </tr>\n",
       "    <tr>\n",
       "      <th>4</th>\n",
       "      <td>100000000379</td>\n",
       "      <td>42</td>\n",
       "      <td>3</td>\n",
       "      <td>7</td>\n",
       "      <td>6</td>\n",
       "      <td>14</td>\n",
       "      <td>11</td>\n",
       "      <td>1</td>\n",
       "      <td>0</td>\n",
       "      <td>0</td>\n",
       "      <td>...</td>\n",
       "      <td>361943.48</td>\n",
       "      <td>5.161138e+11</td>\n",
       "      <td>2</td>\n",
       "      <td>242804</td>\n",
       "      <td>41</td>\n",
       "      <td>3</td>\n",
       "      <td>14800</td>\n",
       "      <td>80949.33</td>\n",
       "      <td>1.309847e+10</td>\n",
       "      <td>186428</td>\n",
       "    </tr>\n",
       "  </tbody>\n",
       "</table>\n",
       "<p>5 rows × 82 columns</p>\n",
       "</div>"
      ],
      "text/plain": [
       "         userid  actionType1  actionType2  actionType3  actionType4  \\\n",
       "0  100000000013           79            1            4            1   \n",
       "1  100000000111            1            0            0            0   \n",
       "2  100000000127            2            0            0            0   \n",
       "3  100000000231           15            6            2            5   \n",
       "4  100000000379           42            3            7            6   \n",
       "\n",
       "   actionType5  actionType6  actionType7  actionType8  actionType9  \\\n",
       "0           32           18            1            4            3   \n",
       "1            1            1            0            0            0   \n",
       "2            2            0            2            0            0   \n",
       "3           10            6            0            0            0   \n",
       "4           14           11            1            0            0   \n",
       "\n",
       "        ...        interval_mean  interval_var  interval_min  \\\n",
       "0       ...            203785.82  8.829965e+11             2   \n",
       "1       ...                23.00  1.000000e+02            13   \n",
       "2       ...           1423919.80  2.946155e+12            46   \n",
       "3       ...            412180.60  1.064041e+12             3   \n",
       "4       ...            361943.48  5.161138e+11             2   \n",
       "\n",
       "   interval_lastvale1  interval_lastvale2  interval_lastvale3  \\\n",
       "0              240330               69377              180836   \n",
       "1                  33                  13                   0   \n",
       "2             3266886             3766778                  46   \n",
       "3                   5                  55                9781   \n",
       "4              242804                  41                   3   \n",
       "\n",
       "   interval_lasetvale4  interval_last3_mean  interval_last3_var  \\\n",
       "0               397436            163514.33        5.020841e+09   \n",
       "1                    0                15.33        1.842200e+02   \n",
       "2                85737           2344570.00        2.790045e+12   \n",
       "3                   12              3280.33        2.112975e+07   \n",
       "4                14800             80949.33        1.309847e+10   \n",
       "\n",
       "   first_interval  \n",
       "0              10  \n",
       "1              13  \n",
       "2             152  \n",
       "3              18  \n",
       "4          186428  \n",
       "\n",
       "[5 rows x 82 columns]"
      ]
     },
     "execution_count": 70,
     "metadata": {},
     "output_type": "execute_result"
    }
   ],
   "source": [
    "traindata_output.head()"
   ]
  },
  {
   "cell_type": "code",
   "execution_count": 71,
   "metadata": {
    "collapsed": true
   },
   "outputs": [],
   "source": [
    "orin_traindata_output = traindata_output"
   ]
  },
  {
   "cell_type": "code",
   "execution_count": 72,
   "metadata": {},
   "outputs": [
    {
     "data": {
      "text/html": [
       "<div>\n",
       "<style>\n",
       "    .dataframe thead tr:only-child th {\n",
       "        text-align: right;\n",
       "    }\n",
       "\n",
       "    .dataframe thead th {\n",
       "        text-align: left;\n",
       "    }\n",
       "\n",
       "    .dataframe tbody tr th {\n",
       "        vertical-align: top;\n",
       "    }\n",
       "</style>\n",
       "<table border=\"1\" class=\"dataframe\">\n",
       "  <thead>\n",
       "    <tr style=\"text-align: right;\">\n",
       "      <th></th>\n",
       "      <th>userid</th>\n",
       "      <th>actionType1</th>\n",
       "      <th>actionType2</th>\n",
       "      <th>actionType3</th>\n",
       "      <th>actionType4</th>\n",
       "      <th>actionType5</th>\n",
       "      <th>actionType6</th>\n",
       "      <th>actionType7</th>\n",
       "      <th>actionType8</th>\n",
       "      <th>actionType9</th>\n",
       "      <th>...</th>\n",
       "      <th>interval_mean</th>\n",
       "      <th>interval_var</th>\n",
       "      <th>interval_min</th>\n",
       "      <th>interval_lastvale1</th>\n",
       "      <th>interval_lastvale2</th>\n",
       "      <th>interval_lastvale3</th>\n",
       "      <th>interval_lasetvale4</th>\n",
       "      <th>interval_last3_mean</th>\n",
       "      <th>interval_last3_var</th>\n",
       "      <th>first_interval</th>\n",
       "    </tr>\n",
       "  </thead>\n",
       "  <tbody>\n",
       "    <tr>\n",
       "      <th>0</th>\n",
       "      <td>100000000013</td>\n",
       "      <td>79</td>\n",
       "      <td>1</td>\n",
       "      <td>4</td>\n",
       "      <td>1</td>\n",
       "      <td>32</td>\n",
       "      <td>18</td>\n",
       "      <td>1</td>\n",
       "      <td>4</td>\n",
       "      <td>3</td>\n",
       "      <td>...</td>\n",
       "      <td>203785.82</td>\n",
       "      <td>8.829965e+11</td>\n",
       "      <td>2</td>\n",
       "      <td>240330</td>\n",
       "      <td>69377</td>\n",
       "      <td>180836</td>\n",
       "      <td>397436</td>\n",
       "      <td>163514.33</td>\n",
       "      <td>5.020841e+09</td>\n",
       "      <td>10</td>\n",
       "    </tr>\n",
       "    <tr>\n",
       "      <th>1</th>\n",
       "      <td>100000000111</td>\n",
       "      <td>1</td>\n",
       "      <td>0</td>\n",
       "      <td>0</td>\n",
       "      <td>0</td>\n",
       "      <td>1</td>\n",
       "      <td>1</td>\n",
       "      <td>0</td>\n",
       "      <td>0</td>\n",
       "      <td>0</td>\n",
       "      <td>...</td>\n",
       "      <td>23.00</td>\n",
       "      <td>1.000000e+02</td>\n",
       "      <td>13</td>\n",
       "      <td>33</td>\n",
       "      <td>13</td>\n",
       "      <td>0</td>\n",
       "      <td>0</td>\n",
       "      <td>15.33</td>\n",
       "      <td>1.842200e+02</td>\n",
       "      <td>13</td>\n",
       "    </tr>\n",
       "    <tr>\n",
       "      <th>2</th>\n",
       "      <td>100000000127</td>\n",
       "      <td>2</td>\n",
       "      <td>0</td>\n",
       "      <td>0</td>\n",
       "      <td>0</td>\n",
       "      <td>2</td>\n",
       "      <td>0</td>\n",
       "      <td>2</td>\n",
       "      <td>0</td>\n",
       "      <td>0</td>\n",
       "      <td>...</td>\n",
       "      <td>1423919.80</td>\n",
       "      <td>2.946155e+12</td>\n",
       "      <td>46</td>\n",
       "      <td>3266886</td>\n",
       "      <td>3766778</td>\n",
       "      <td>46</td>\n",
       "      <td>85737</td>\n",
       "      <td>2344570.00</td>\n",
       "      <td>2.790045e+12</td>\n",
       "      <td>152</td>\n",
       "    </tr>\n",
       "    <tr>\n",
       "      <th>3</th>\n",
       "      <td>100000000231</td>\n",
       "      <td>15</td>\n",
       "      <td>6</td>\n",
       "      <td>2</td>\n",
       "      <td>5</td>\n",
       "      <td>10</td>\n",
       "      <td>6</td>\n",
       "      <td>0</td>\n",
       "      <td>0</td>\n",
       "      <td>0</td>\n",
       "      <td>...</td>\n",
       "      <td>412180.60</td>\n",
       "      <td>1.064041e+12</td>\n",
       "      <td>3</td>\n",
       "      <td>5</td>\n",
       "      <td>55</td>\n",
       "      <td>9781</td>\n",
       "      <td>12</td>\n",
       "      <td>3280.33</td>\n",
       "      <td>2.112975e+07</td>\n",
       "      <td>18</td>\n",
       "    </tr>\n",
       "    <tr>\n",
       "      <th>4</th>\n",
       "      <td>100000000379</td>\n",
       "      <td>42</td>\n",
       "      <td>3</td>\n",
       "      <td>7</td>\n",
       "      <td>6</td>\n",
       "      <td>14</td>\n",
       "      <td>11</td>\n",
       "      <td>1</td>\n",
       "      <td>0</td>\n",
       "      <td>0</td>\n",
       "      <td>...</td>\n",
       "      <td>361943.48</td>\n",
       "      <td>5.161138e+11</td>\n",
       "      <td>2</td>\n",
       "      <td>242804</td>\n",
       "      <td>41</td>\n",
       "      <td>3</td>\n",
       "      <td>14800</td>\n",
       "      <td>80949.33</td>\n",
       "      <td>1.309847e+10</td>\n",
       "      <td>186428</td>\n",
       "    </tr>\n",
       "  </tbody>\n",
       "</table>\n",
       "<p>5 rows × 82 columns</p>\n",
       "</div>"
      ],
      "text/plain": [
       "         userid  actionType1  actionType2  actionType3  actionType4  \\\n",
       "0  100000000013           79            1            4            1   \n",
       "1  100000000111            1            0            0            0   \n",
       "2  100000000127            2            0            0            0   \n",
       "3  100000000231           15            6            2            5   \n",
       "4  100000000379           42            3            7            6   \n",
       "\n",
       "   actionType5  actionType6  actionType7  actionType8  actionType9  \\\n",
       "0           32           18            1            4            3   \n",
       "1            1            1            0            0            0   \n",
       "2            2            0            2            0            0   \n",
       "3           10            6            0            0            0   \n",
       "4           14           11            1            0            0   \n",
       "\n",
       "        ...        interval_mean  interval_var  interval_min  \\\n",
       "0       ...            203785.82  8.829965e+11             2   \n",
       "1       ...                23.00  1.000000e+02            13   \n",
       "2       ...           1423919.80  2.946155e+12            46   \n",
       "3       ...            412180.60  1.064041e+12             3   \n",
       "4       ...            361943.48  5.161138e+11             2   \n",
       "\n",
       "   interval_lastvale1  interval_lastvale2  interval_lastvale3  \\\n",
       "0              240330               69377              180836   \n",
       "1                  33                  13                   0   \n",
       "2             3266886             3766778                  46   \n",
       "3                   5                  55                9781   \n",
       "4              242804                  41                   3   \n",
       "\n",
       "   interval_lasetvale4  interval_last3_mean  interval_last3_var  \\\n",
       "0               397436            163514.33        5.020841e+09   \n",
       "1                    0                15.33        1.842200e+02   \n",
       "2                85737           2344570.00        2.790045e+12   \n",
       "3                   12              3280.33        2.112975e+07   \n",
       "4                14800             80949.33        1.309847e+10   \n",
       "\n",
       "   first_interval  \n",
       "0              10  \n",
       "1              13  \n",
       "2             152  \n",
       "3              18  \n",
       "4          186428  \n",
       "\n",
       "[5 rows x 82 columns]"
      ]
     },
     "execution_count": 72,
     "metadata": {},
     "output_type": "execute_result"
    }
   ],
   "source": [
    "orin_traindata_output.head()"
   ]
  },
  {
   "cell_type": "code",
   "execution_count": 75,
   "metadata": {
    "collapsed": true
   },
   "outputs": [],
   "source": [
    "orin_traindata_output = pd.read_csv(traindata_output_path + 'traindata_output.csv')\n",
    "traindata_output = pd.read_csv(traindata_output_path + 'traindata_output.csv')\n",
    "traindata_output.fillna(0, inplace=True)\n",
    "y = traindata_output['orderType']\n",
    "del traindata_output['userid']\n",
    "del traindata_output['orderType']\n",
    "X = traindata_output\n",
    "\n",
    "select_k_best_classifier = SelectKBest(score_func=chi2,k=70)\n",
    "chi2_data = select_k_best_classifier.fit_transform(X, y)\n",
    "columns_index = select_k_best_classifier.get_support(indices=True)"
   ]
  },
  {
   "cell_type": "code",
   "execution_count": 77,
   "metadata": {},
   "outputs": [],
   "source": [
    "columns_mask=select_k_best_classifier.get_support()"
   ]
  },
  {
   "cell_type": "code",
   "execution_count": 79,
   "metadata": {},
   "outputs": [
    {
     "data": {
      "text/plain": [
       "80"
      ]
     },
     "execution_count": 79,
     "metadata": {},
     "output_type": "execute_result"
    }
   ],
   "source": [
    "len(columns_mask)"
   ]
  },
  {
   "cell_type": "code",
   "execution_count": 80,
   "metadata": {},
   "outputs": [
    {
     "data": {
      "text/plain": [
       "70"
      ]
     },
     "execution_count": 80,
     "metadata": {},
     "output_type": "execute_result"
    }
   ],
   "source": [
    "len(columns_index)"
   ]
  },
  {
   "cell_type": "code",
   "execution_count": 104,
   "metadata": {},
   "outputs": [],
   "source": [
    "testdata_output_path = project_path + \"preprocess/testdata_output/\"\n",
    "traindata_output_variance_sel=pd.read_csv(traindata_output_path + 'traindata_output.csv')\n",
    "testdata_output_variance_sel=pd.read_csv(testdata_output_path + 'testdata_output.csv')"
   ]
  },
  {
   "cell_type": "code",
   "execution_count": 105,
   "metadata": {},
   "outputs": [
    {
     "data": {
      "text/plain": [
       "85"
      ]
     },
     "execution_count": 105,
     "metadata": {},
     "output_type": "execute_result"
    }
   ],
   "source": [
    "len(traindata_output_variance_sel.columns)"
   ]
  },
  {
   "cell_type": "code",
   "execution_count": 106,
   "metadata": {},
   "outputs": [
    {
     "data": {
      "text/plain": [
       "84"
      ]
     },
     "execution_count": 106,
     "metadata": {},
     "output_type": "execute_result"
    }
   ],
   "source": [
    "len(testdata_output_variance_sel.columns)"
   ]
  },
  {
   "cell_type": "code",
   "execution_count": 108,
   "metadata": {},
   "outputs": [
    {
     "name": "stdout",
     "output_type": "stream",
     "text": [
      "(40307, 85)\n",
      "(10076, 84)\n"
     ]
    }
   ],
   "source": [
    "print(traindata_output_variance_sel.shape)\n",
    "print(testdata_output_variance_sel.shape)"
   ]
  },
  {
   "cell_type": "code",
   "execution_count": 100,
   "metadata": {},
   "outputs": [
    {
     "name": "stdout",
     "output_type": "stream",
     "text": [
      "orderType\n"
     ]
    }
   ],
   "source": [
    "for column in traindata_output_variance_sel.columns:\n",
    "    if(column not in testdata_output_variance_sel.columns):\n",
    "        print(column)"
   ]
  },
  {
   "cell_type": "code",
   "execution_count": 92,
   "metadata": {},
   "outputs": [
    {
     "data": {
      "text/plain": [
       "Index(['userid', 'actionType1', 'actionType2', 'actionType3', 'actionType4',\n",
       "       'actionType5', 'actionType6', 'actionType7', 'actionType8',\n",
       "       'actionType9', 'orderType', 'user_purchase_orderType01_times',\n",
       "       'if_exist_rate_largerthan_2', 'user_click_num', 'user_click_rate',\n",
       "       'user_purchase_num', 'user_open_app_num', 'user_purchase_rate',\n",
       "       'user_orderType0_rate_largerthan_2',\n",
       "       'actionType234_after_submit_last_order', 'tages_num', 'keywords_num',\n",
       "       'browse_product_num_by_day', 'firstType', 'daoshuType1', 'daoshuType2',\n",
       "       'daoshuType3', 'to_closest_1_time', 'to_closest_2_time',\n",
       "       'to_closest_2_time_interval_mean', 'to_closest_2_time_interval_min',\n",
       "       'to_closest_3_dist', 'to_closest_3_time',\n",
       "       'to_closest_3_time_interval_mean', 'to_closest_3_time_interval_min',\n",
       "       'to_closest_4_time', 'to_closest_4_time_interval_min',\n",
       "       'to_closest_5_time', 'to_closest_5_dist',\n",
       "       'to_closest_5_time_interval_mean', 'to_closest_5_time_interval_min',\n",
       "       'to_closest_5_time_interval_max', 'to_closest_5_time_interval_var',\n",
       "       'to_closest_6_time', 'to_closest_6_time_interval_mean',\n",
       "       'to_closest_6_time_interval_min', 'to_closest_6_time_interval_max',\n",
       "       'to_closest_6_time_interval_var', 'to_closest_7_time',\n",
       "       'to_closest_7_time_interval_mean', 'to_closest_7_time_interval_min',\n",
       "       'to_closest_7_time_interval_max', 'to_closest_7_time_interval_var',\n",
       "       'to_closest_8_dist', 'to_closest_8_time',\n",
       "       'to_closest_8_time_interval_mean', 'to_closest_8_time_interval_min',\n",
       "       'to_closest_8_time_interval_var', 'to_closest_9_time',\n",
       "       'to_closest_9_time_interval_mean', 'to_closest_9_time_interval_var',\n",
       "       'to_closest_9_time_interval_mean_multi_var', 'interval_mean',\n",
       "       'interval_var', 'interval_min', 'interval_lastvale1',\n",
       "       'interval_lastvale2', 'interval_lastvale3', 'interval_lasetvale4',\n",
       "       'interval_last3_mean', 'interval_last3_var', 'first_interval',\n",
       "       'userid.1', 'orderType.1'],\n",
       "      dtype='object')"
      ]
     },
     "execution_count": 92,
     "metadata": {},
     "output_type": "execute_result"
    }
   ],
   "source": [
    "traindata_output_variance_sel.columns"
   ]
  },
  {
   "cell_type": "code",
   "execution_count": null,
   "metadata": {
    "collapsed": true
   },
   "outputs": [],
   "source": []
  }
 ],
 "metadata": {
  "kernelspec": {
   "display_name": "Python 3",
   "language": "python",
   "name": "python3"
  },
  "language_info": {
   "codemirror_mode": {
    "name": "ipython",
    "version": 3
   },
   "file_extension": ".py",
   "mimetype": "text/x-python",
   "name": "python",
   "nbconvert_exporter": "python",
   "pygments_lexer": "ipython3",
   "version": "3.6.3"
  }
 },
 "nbformat": 4,
 "nbformat_minor": 2
}
